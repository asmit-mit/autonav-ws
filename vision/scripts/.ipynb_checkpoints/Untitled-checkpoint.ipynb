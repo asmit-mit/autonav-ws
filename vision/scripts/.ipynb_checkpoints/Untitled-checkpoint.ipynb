{
 "cells": [
  {
   "cell_type": "code",
   "execution_count": null,
   "id": "b05faeb7-7492-4746-80e4-786890f594df",
   "metadata": {},
   "outputs": [],
   "source": [
    "import cv2\n",
    "import numpy as np\n",
    "import matplotlib.pyplot as plt"
   ]
  },
  {
   "cell_type": "code",
   "execution_count": null,
   "id": "03e8c8e9-9357-4eb6-a58c-6f8472a0c84c",
   "metadata": {},
   "outputs": [],
   "source": [
    "print(\"hello\")"
   ]
  },
  {
   "cell_type": "code",
   "execution_count": 9,
   "id": "b12b2ae2-920e-48f1-9ff4-e0858eb7eec8",
   "metadata": {},
   "outputs": [],
   "source": [
    "path = \"/home/asmitpaul/Downloads/lanes.jpg\"\n",
    "\n",
    "img = cv2.imread(path)"
   ]
  },
  {
   "cell_type": "code",
   "execution_count": 10,
   "id": "8ed631c6-3a46-4f6f-a121-8aee9994b8c8",
   "metadata": {},
   "outputs": [
    {
     "data": {
      "text/plain": [
       "array([[[192, 205, 221],\n",
       "        [190, 203, 219],\n",
       "        [185, 198, 214],\n",
       "        ...,\n",
       "        [212, 220, 227],\n",
       "        [235, 243, 250],\n",
       "        [235, 243, 250]],\n",
       "\n",
       "       [[198, 211, 227],\n",
       "        [193, 206, 222],\n",
       "        [185, 198, 214],\n",
       "        ...,\n",
       "        [209, 217, 224],\n",
       "        [203, 211, 218],\n",
       "        [172, 180, 187]],\n",
       "\n",
       "       [[210, 223, 239],\n",
       "        [189, 202, 218],\n",
       "        [174, 187, 203],\n",
       "        ...,\n",
       "        [204, 212, 219],\n",
       "        [152, 160, 167],\n",
       "        [161, 169, 176]],\n",
       "\n",
       "       ...,\n",
       "\n",
       "       [[ 43,  39,  38],\n",
       "        [ 74,  72,  71],\n",
       "        [109, 110, 106],\n",
       "        ...,\n",
       "        [102, 102,  96],\n",
       "        [107, 107, 101],\n",
       "        [109, 109, 103]],\n",
       "\n",
       "       [[ 53,  52,  48],\n",
       "        [ 75,  76,  72],\n",
       "        [102, 103,  99],\n",
       "        ...,\n",
       "        [ 77,  77,  71],\n",
       "        [ 85,  85,  79],\n",
       "        [ 88,  88,  82]],\n",
       "\n",
       "       [[ 58,  59,  55],\n",
       "        [ 69,  70,  66],\n",
       "        [101, 105, 100],\n",
       "        ...,\n",
       "        [ 78,  78,  72],\n",
       "        [ 74,  74,  68],\n",
       "        [ 78,  78,  72]]], dtype=uint8)"
      ]
     },
     "execution_count": 10,
     "metadata": {},
     "output_type": "execute_result"
    }
   ],
   "source": [
    "cv2.imshow(\"Image\", image)\n",
    "cv2.waitKey(0) \n",
    "cv2.destroyAllWindows()"
   ]
  }
 ],
 "metadata": {
  "kernelspec": {
   "display_name": "Python 3 (ipykernel)",
   "language": "python",
   "name": "python3"
  },
  "language_info": {
   "codemirror_mode": {
    "name": "ipython",
    "version": 3
   },
   "file_extension": ".py",
   "mimetype": "text/x-python",
   "name": "python",
   "nbconvert_exporter": "python",
   "pygments_lexer": "ipython3",
   "version": "3.13.0"
  }
 },
 "nbformat": 4,
 "nbformat_minor": 5
}
